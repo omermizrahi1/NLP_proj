{
  "cells": [
    {
      "cell_type": "code",
      "execution_count": 6,
      "metadata": {},
      "outputs": [],
      "source": [
        "import pandas as pd\n",
        "from sklearn.calibration import LabelEncoder\n",
        "from sklearn.ensemble import ExtraTreesClassifier, RandomForestClassifier\n",
        "from sklearn.metrics import classification_report, accuracy_score\n",
        "from sklearn.preprocessing import OneHotEncoder\n",
        "from xgboost import XGBClassifier\n",
        "from model import test_train\n",
        "import os"
      ]
    },
    {
      "cell_type": "markdown",
      "metadata": {},
      "source": [
        "Optuna hyperparameters tuning best results"
      ]
    },
    {
      "cell_type": "code",
      "execution_count": 2,
      "metadata": {},
      "outputs": [],
      "source": [
        "glinert_with_combinations_params = {\n",
        "    'n_estimators': 1213, \n",
        "    'max_depth': 1446, \n",
        "    'min_samples_split': 11, \n",
        "    'min_samples_leaf': 2, \n",
        "    'criterion': 'entropy'\n",
        "}\n",
        "\n",
        "glinert_without_combinations_params = {\n",
        "    'n_estimators': 492,\n",
        "    'criterion': 'entropy',\n",
        "    'max_features': 98,\n",
        "    'min_samples_split': 12,\n",
        "    'min_samples_leaf': 4\n",
        "}\n",
        "\n",
        "blau_with_combinations_params = {\n",
        "    'n_estimators': 1976,\n",
        "    'max_depth': 1754,\n",
        "    'min_samples_split': 6,\n",
        "    'min_samples_leaf': 7,\n",
        "    'criterion': 'gini'\n",
        "}\n",
        "\n",
        "blau_without_combinations_params =  {\n",
        "    'learning_rate': 0.07065406111162569,\n",
        "    'max_depth': 9,\n",
        "    'subsample': 0.5330322464317575,\n",
        "    'colsample_bytree': 0.736391557003238,\n",
        "    'min_child_weight': 19\n",
        "}"
      ]
    },
    {
      "cell_type": "markdown",
      "metadata": {},
      "source": [
        "Testing if the optimziation did improve the results\n",
        "(note that this code takes long time to run)"
      ]
    },
    {
      "cell_type": "code",
      "execution_count": 10,
      "metadata": {},
      "outputs": [
        {
          "name": "stdout",
          "output_type": "stream",
          "text": [
            "optimized mean: 0.6386274509803926\n",
            "not optimized mean: 0.6071568627450983\n",
            "glinert with combinations=True is better with optimization\n",
            "              precision    recall  f1-score   support\n",
            "\n",
            "           0       0.00      0.00      0.00         4\n",
            "           1       0.60      0.77      0.67        39\n",
            "           2       0.00      0.00      0.00         2\n",
            "           3       0.00      0.00      0.00        11\n",
            "           4       0.67      0.76      0.71        46\n",
            "\n",
            "    accuracy                           0.64       102\n",
            "   macro avg       0.25      0.31      0.28       102\n",
            "weighted avg       0.53      0.64      0.58       102\n",
            "\n",
            "optimized mean: 0.6428431372549025\n",
            "not optimized mean: 0.6000980392156867\n",
            "glinert with combinations=False is better with optimization\n",
            "              precision    recall  f1-score   support\n",
            "\n",
            "           0       0.00      0.00      0.00         4\n",
            "           1       0.58      0.79      0.67        39\n",
            "           2       0.00      0.00      0.00         2\n",
            "           3       0.00      0.00      0.00        11\n",
            "           4       0.71      0.76      0.74        46\n",
            "\n",
            "    accuracy                           0.65       102\n",
            "   macro avg       0.26      0.31      0.28       102\n",
            "weighted avg       0.55      0.65      0.59       102\n",
            "\n",
            "optimized mean: 0.6382352941176473\n",
            "not optimized mean: 0.6205882352941177\n",
            "blau with combinations=True is better with optimization\n",
            "              precision    recall  f1-score   support\n",
            "\n",
            "           0       0.00      0.00      0.00         1\n",
            "           1       0.00      0.00      0.00         2\n",
            "           2       0.57      0.73      0.64        41\n",
            "           3       0.00      0.00      0.00        12\n",
            "           4       0.69      0.74      0.72        46\n",
            "\n",
            "    accuracy                           0.63       102\n",
            "   macro avg       0.25      0.29      0.27       102\n",
            "weighted avg       0.54      0.63      0.58       102\n",
            "\n",
            "optimized mean: 0.6862745098039222\n",
            "not optimized mean: 0.6372549019607856\n",
            "blau with combinations=False is better with optimization\n",
            "              precision    recall  f1-score   support\n",
            "\n",
            "           0       0.00      0.00      0.00         1\n",
            "           1       0.00      0.00      0.00         2\n",
            "           2       0.61      0.83      0.70        41\n",
            "           3       0.00      0.00      0.00        12\n",
            "           4       0.78      0.78      0.78        46\n",
            "\n",
            "    accuracy                           0.69       102\n",
            "   macro avg       0.28      0.32      0.30       102\n",
            "weighted avg       0.60      0.69      0.63       102\n",
            "\n"
          ]
        }
      ],
      "source": [
        "def test_optimization():\n",
        "    methods = {\n",
        "        ('glinert', True): (ExtraTreesClassifier , glinert_with_combinations_params),\n",
        "        ('glinert', False): (RandomForestClassifier, glinert_without_combinations_params),\n",
        "        ('blau', True): (ExtraTreesClassifier, blau_with_combinations_params),\n",
        "        ('blau', False): (XGBClassifier, blau_without_combinations_params)\n",
        "    }\n",
        "\n",
        "    for method in methods:\n",
        "        result = {'optimized':[], 'not_optimized':[]}\n",
        "        for _ in range(100):\n",
        "            X_train, X_test, y_train, y_test = test_train(method[0], method[1])\n",
        "            opt_model = methods[method][0](**methods[method][1])\n",
        "            opt_model.fit(X_train, y_train)\n",
        "            y_pred_opt = opt_model.predict(X_test)\n",
        "            result['optimized'].append(accuracy_score(y_test, y_pred_opt))\n",
        "            not_opt_model = methods[method][0]()\n",
        "            not_opt_model.fit(X_train, y_train)\n",
        "            y_pred = not_opt_model.predict(X_test)\n",
        "            result['not_optimized'].append(accuracy_score(y_test, y_pred))\n",
        "\n",
        "        optmized_mean = sum(result['optimized'])/len(result['optimized'])\n",
        "        not_optimized_mean = sum(result['not_optimized'])/len(result['not_optimized'])\n",
        "\n",
        "        print (f'optimized mean: {optmized_mean}')\n",
        "        print (f'not optimized mean: {not_optimized_mean}')\n",
        "\n",
        "        if optmized_mean > not_optimized_mean:\n",
        "            print(f'{method[0]} with combinations={method[1]} is better with optimization')\n",
        "            print(classification_report(y_test, y_pred_opt))\n",
        "            \n",
        "        else:\n",
        "            print(f'{method[0]} with combinations={method[1]} is better without optimization')\n",
        "            print(classification_report(y_test, y_pred))\n",
        "\n",
        "\n",
        "\n",
        "test_optimization()"
      ]
    },
    {
      "cell_type": "markdown",
      "metadata": {},
      "source": [
        "As we can see, Optuna indeed improved the result, but by small margin"
      ]
    },
    {
      "cell_type": "markdown",
      "metadata": {},
      "source": [
        "Now we will train the whole dataset with the best model for each approach."
      ]
    },
    {
      "cell_type": "code",
      "execution_count": 11,
      "metadata": {},
      "outputs": [],
      "source": [
        "def encoded_dataset(method, comb=True):\n",
        "    excel_folder = 'excel'\n",
        "    if comb:\n",
        "        df = pd.read_excel(os.path.join(excel_folder,f'merged_comb_{method}.xlsx'))\n",
        "    else:\n",
        "        df = pd.read_excel(os.path.join(excel_folder,f'merged_{method}.xlsx'))\n",
        "    df.replace({None: pd.NA}, inplace=True)\n",
        "    df.drop(columns=['target word_0'], inplace=True)\n",
        "    df.dropna(subset=[method.capitalize()], inplace=True)\n",
        "    df = df[df[method.capitalize()] != '-']\n",
        "    df.fillna('', inplace=True)\n",
        "\n",
        "    X = df.iloc[:, :-1]\n",
        "    y = df.iloc[:, -1]\n",
        "\n",
        "    encoder = OneHotEncoder(sparse=False , handle_unknown='ignore')\n",
        "    encoder.fit(X)\n",
        "    X = encoder.transform(X)\n",
        "\n",
        "    label_encoder = LabelEncoder()\n",
        "    y = label_encoder.fit_transform(y)\n",
        "\n",
        "    return X, y\n",
        "\n"
      ]
    },
    {
      "cell_type": "markdown",
      "metadata": {},
      "source": [
        "Model for glinert"
      ]
    },
    {
      "cell_type": "code",
      "execution_count": 8,
      "metadata": {},
      "outputs": [
        {
          "data": {
            "text/html": [
              "<style>#sk-container-id-2 {color: black;background-color: white;}#sk-container-id-2 pre{padding: 0;}#sk-container-id-2 div.sk-toggleable {background-color: white;}#sk-container-id-2 label.sk-toggleable__label {cursor: pointer;display: block;width: 100%;margin-bottom: 0;padding: 0.3em;box-sizing: border-box;text-align: center;}#sk-container-id-2 label.sk-toggleable__label-arrow:before {content: \"▸\";float: left;margin-right: 0.25em;color: #696969;}#sk-container-id-2 label.sk-toggleable__label-arrow:hover:before {color: black;}#sk-container-id-2 div.sk-estimator:hover label.sk-toggleable__label-arrow:before {color: black;}#sk-container-id-2 div.sk-toggleable__content {max-height: 0;max-width: 0;overflow: hidden;text-align: left;background-color: #f0f8ff;}#sk-container-id-2 div.sk-toggleable__content pre {margin: 0.2em;color: black;border-radius: 0.25em;background-color: #f0f8ff;}#sk-container-id-2 input.sk-toggleable__control:checked~div.sk-toggleable__content {max-height: 200px;max-width: 100%;overflow: auto;}#sk-container-id-2 input.sk-toggleable__control:checked~label.sk-toggleable__label-arrow:before {content: \"▾\";}#sk-container-id-2 div.sk-estimator input.sk-toggleable__control:checked~label.sk-toggleable__label {background-color: #d4ebff;}#sk-container-id-2 div.sk-label input.sk-toggleable__control:checked~label.sk-toggleable__label {background-color: #d4ebff;}#sk-container-id-2 input.sk-hidden--visually {border: 0;clip: rect(1px 1px 1px 1px);clip: rect(1px, 1px, 1px, 1px);height: 1px;margin: -1px;overflow: hidden;padding: 0;position: absolute;width: 1px;}#sk-container-id-2 div.sk-estimator {font-family: monospace;background-color: #f0f8ff;border: 1px dotted black;border-radius: 0.25em;box-sizing: border-box;margin-bottom: 0.5em;}#sk-container-id-2 div.sk-estimator:hover {background-color: #d4ebff;}#sk-container-id-2 div.sk-parallel-item::after {content: \"\";width: 100%;border-bottom: 1px solid gray;flex-grow: 1;}#sk-container-id-2 div.sk-label:hover label.sk-toggleable__label {background-color: #d4ebff;}#sk-container-id-2 div.sk-serial::before {content: \"\";position: absolute;border-left: 1px solid gray;box-sizing: border-box;top: 0;bottom: 0;left: 50%;z-index: 0;}#sk-container-id-2 div.sk-serial {display: flex;flex-direction: column;align-items: center;background-color: white;padding-right: 0.2em;padding-left: 0.2em;position: relative;}#sk-container-id-2 div.sk-item {position: relative;z-index: 1;}#sk-container-id-2 div.sk-parallel {display: flex;align-items: stretch;justify-content: center;background-color: white;position: relative;}#sk-container-id-2 div.sk-item::before, #sk-container-id-2 div.sk-parallel-item::before {content: \"\";position: absolute;border-left: 1px solid gray;box-sizing: border-box;top: 0;bottom: 0;left: 50%;z-index: -1;}#sk-container-id-2 div.sk-parallel-item {display: flex;flex-direction: column;z-index: 1;position: relative;background-color: white;}#sk-container-id-2 div.sk-parallel-item:first-child::after {align-self: flex-end;width: 50%;}#sk-container-id-2 div.sk-parallel-item:last-child::after {align-self: flex-start;width: 50%;}#sk-container-id-2 div.sk-parallel-item:only-child::after {width: 0;}#sk-container-id-2 div.sk-dashed-wrapped {border: 1px dashed gray;margin: 0 0.4em 0.5em 0.4em;box-sizing: border-box;padding-bottom: 0.4em;background-color: white;}#sk-container-id-2 div.sk-label label {font-family: monospace;font-weight: bold;display: inline-block;line-height: 1.2em;}#sk-container-id-2 div.sk-label-container {text-align: center;}#sk-container-id-2 div.sk-container {/* jupyter's `normalize.less` sets `[hidden] { display: none; }` but bootstrap.min.css set `[hidden] { display: none !important; }` so we also need the `!important` here to be able to override the default hidden behavior on the sphinx rendered scikit-learn.org. See: https://github.com/scikit-learn/scikit-learn/issues/21755 */display: inline-block !important;position: relative;}#sk-container-id-2 div.sk-text-repr-fallback {display: none;}</style><div id=\"sk-container-id-2\" class=\"sk-top-container\"><div class=\"sk-text-repr-fallback\"><pre>ExtraTreesClassifier(criterion=&#x27;entropy&#x27;, max_depth=1446, min_samples_leaf=2,\n",
              "                     min_samples_split=11, n_estimators=1213)</pre><b>In a Jupyter environment, please rerun this cell to show the HTML representation or trust the notebook. <br />On GitHub, the HTML representation is unable to render, please try loading this page with nbviewer.org.</b></div><div class=\"sk-container\" hidden><div class=\"sk-item\"><div class=\"sk-estimator sk-toggleable\"><input class=\"sk-toggleable__control sk-hidden--visually\" id=\"sk-estimator-id-2\" type=\"checkbox\" checked><label for=\"sk-estimator-id-2\" class=\"sk-toggleable__label sk-toggleable__label-arrow\">ExtraTreesClassifier</label><div class=\"sk-toggleable__content\"><pre>ExtraTreesClassifier(criterion=&#x27;entropy&#x27;, max_depth=1446, min_samples_leaf=2,\n",
              "                     min_samples_split=11, n_estimators=1213)</pre></div></div></div></div></div>"
            ],
            "text/plain": [
              "ExtraTreesClassifier(criterion='entropy', max_depth=1446, min_samples_leaf=2,\n",
              "                     min_samples_split=11, n_estimators=1213)"
            ]
          },
          "execution_count": 8,
          "metadata": {},
          "output_type": "execute_result"
        }
      ],
      "source": [
        "glinert_final_model = ExtraTreesClassifier(**glinert_with_combinations_params)\n",
        "X, y = encoded_dataset('glinert')\n",
        "glinert_final_model.fit(X, y)"
      ]
    },
    {
      "cell_type": "markdown",
      "metadata": {},
      "source": [
        "Model for Blau\n"
      ]
    },
    {
      "cell_type": "code",
      "execution_count": 9,
      "metadata": {},
      "outputs": [
        {
          "data": {
            "text/html": [
              "<style>#sk-container-id-3 {color: black;background-color: white;}#sk-container-id-3 pre{padding: 0;}#sk-container-id-3 div.sk-toggleable {background-color: white;}#sk-container-id-3 label.sk-toggleable__label {cursor: pointer;display: block;width: 100%;margin-bottom: 0;padding: 0.3em;box-sizing: border-box;text-align: center;}#sk-container-id-3 label.sk-toggleable__label-arrow:before {content: \"▸\";float: left;margin-right: 0.25em;color: #696969;}#sk-container-id-3 label.sk-toggleable__label-arrow:hover:before {color: black;}#sk-container-id-3 div.sk-estimator:hover label.sk-toggleable__label-arrow:before {color: black;}#sk-container-id-3 div.sk-toggleable__content {max-height: 0;max-width: 0;overflow: hidden;text-align: left;background-color: #f0f8ff;}#sk-container-id-3 div.sk-toggleable__content pre {margin: 0.2em;color: black;border-radius: 0.25em;background-color: #f0f8ff;}#sk-container-id-3 input.sk-toggleable__control:checked~div.sk-toggleable__content {max-height: 200px;max-width: 100%;overflow: auto;}#sk-container-id-3 input.sk-toggleable__control:checked~label.sk-toggleable__label-arrow:before {content: \"▾\";}#sk-container-id-3 div.sk-estimator input.sk-toggleable__control:checked~label.sk-toggleable__label {background-color: #d4ebff;}#sk-container-id-3 div.sk-label input.sk-toggleable__control:checked~label.sk-toggleable__label {background-color: #d4ebff;}#sk-container-id-3 input.sk-hidden--visually {border: 0;clip: rect(1px 1px 1px 1px);clip: rect(1px, 1px, 1px, 1px);height: 1px;margin: -1px;overflow: hidden;padding: 0;position: absolute;width: 1px;}#sk-container-id-3 div.sk-estimator {font-family: monospace;background-color: #f0f8ff;border: 1px dotted black;border-radius: 0.25em;box-sizing: border-box;margin-bottom: 0.5em;}#sk-container-id-3 div.sk-estimator:hover {background-color: #d4ebff;}#sk-container-id-3 div.sk-parallel-item::after {content: \"\";width: 100%;border-bottom: 1px solid gray;flex-grow: 1;}#sk-container-id-3 div.sk-label:hover label.sk-toggleable__label {background-color: #d4ebff;}#sk-container-id-3 div.sk-serial::before {content: \"\";position: absolute;border-left: 1px solid gray;box-sizing: border-box;top: 0;bottom: 0;left: 50%;z-index: 0;}#sk-container-id-3 div.sk-serial {display: flex;flex-direction: column;align-items: center;background-color: white;padding-right: 0.2em;padding-left: 0.2em;position: relative;}#sk-container-id-3 div.sk-item {position: relative;z-index: 1;}#sk-container-id-3 div.sk-parallel {display: flex;align-items: stretch;justify-content: center;background-color: white;position: relative;}#sk-container-id-3 div.sk-item::before, #sk-container-id-3 div.sk-parallel-item::before {content: \"\";position: absolute;border-left: 1px solid gray;box-sizing: border-box;top: 0;bottom: 0;left: 50%;z-index: -1;}#sk-container-id-3 div.sk-parallel-item {display: flex;flex-direction: column;z-index: 1;position: relative;background-color: white;}#sk-container-id-3 div.sk-parallel-item:first-child::after {align-self: flex-end;width: 50%;}#sk-container-id-3 div.sk-parallel-item:last-child::after {align-self: flex-start;width: 50%;}#sk-container-id-3 div.sk-parallel-item:only-child::after {width: 0;}#sk-container-id-3 div.sk-dashed-wrapped {border: 1px dashed gray;margin: 0 0.4em 0.5em 0.4em;box-sizing: border-box;padding-bottom: 0.4em;background-color: white;}#sk-container-id-3 div.sk-label label {font-family: monospace;font-weight: bold;display: inline-block;line-height: 1.2em;}#sk-container-id-3 div.sk-label-container {text-align: center;}#sk-container-id-3 div.sk-container {/* jupyter's `normalize.less` sets `[hidden] { display: none; }` but bootstrap.min.css set `[hidden] { display: none !important; }` so we also need the `!important` here to be able to override the default hidden behavior on the sphinx rendered scikit-learn.org. See: https://github.com/scikit-learn/scikit-learn/issues/21755 */display: inline-block !important;position: relative;}#sk-container-id-3 div.sk-text-repr-fallback {display: none;}</style><div id=\"sk-container-id-3\" class=\"sk-top-container\"><div class=\"sk-text-repr-fallback\"><pre>ExtraTreesClassifier(max_depth=1754, min_samples_leaf=7, min_samples_split=6,\n",
              "                     n_estimators=1976)</pre><b>In a Jupyter environment, please rerun this cell to show the HTML representation or trust the notebook. <br />On GitHub, the HTML representation is unable to render, please try loading this page with nbviewer.org.</b></div><div class=\"sk-container\" hidden><div class=\"sk-item\"><div class=\"sk-estimator sk-toggleable\"><input class=\"sk-toggleable__control sk-hidden--visually\" id=\"sk-estimator-id-3\" type=\"checkbox\" checked><label for=\"sk-estimator-id-3\" class=\"sk-toggleable__label sk-toggleable__label-arrow\">ExtraTreesClassifier</label><div class=\"sk-toggleable__content\"><pre>ExtraTreesClassifier(max_depth=1754, min_samples_leaf=7, min_samples_split=6,\n",
              "                     n_estimators=1976)</pre></div></div></div></div></div>"
            ],
            "text/plain": [
              "ExtraTreesClassifier(max_depth=1754, min_samples_leaf=7, min_samples_split=6,\n",
              "                     n_estimators=1976)"
            ]
          },
          "execution_count": 9,
          "metadata": {},
          "output_type": "execute_result"
        }
      ],
      "source": [
        "blau_final_model = ExtraTreesClassifier(**blau_with_combinations_params)\n",
        "X, y = encoded_dataset('blau')\n",
        "blau_final_model.fit(X, y)"
      ]
    }
  ],
  "metadata": {
    "anaconda-cloud": {},
    "kernelspec": {
      "display_name": "Python 3",
      "language": "python",
      "name": "python3"
    },
    "language_info": {
      "codemirror_mode": {
        "name": "ipython",
        "version": 3
      },
      "file_extension": ".py",
      "mimetype": "text/x-python",
      "name": "python",
      "nbconvert_exporter": "python",
      "pygments_lexer": "ipython3",
      "version": "3.11.3"
    }
  },
  "nbformat": 4,
  "nbformat_minor": 4
}
